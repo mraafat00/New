{
  "metadata": {
    "kernelspec": {
      "name": "python",
      "display_name": "Python (Pyodide)",
      "language": "python"
    },
    "language_info": {
      "codemirror_mode": {
        "name": "python",
        "version": 3
      },
      "file_extension": ".py",
      "mimetype": "text/x-python",
      "name": "python",
      "nbconvert_exporter": "python",
      "pygments_lexer": "ipython3",
      "version": "3.8"
    }
  },
  "nbformat_minor": 5,
  "nbformat": 4,
  "cells": [
    {
      "id": "b304a789-efdc-49a1-9af6-661948fe0a84",
      "cell_type": "code",
      "source": "",
      "metadata": {
        "trusted": true
      },
      "outputs": [],
      "execution_count": null
    },
    {
      "id": "2559508b-55ef-435d-833e-28d627c15fc9",
      "cell_type": "code",
      "source": "",
      "metadata": {
        "trusted": true
      },
      "outputs": [],
      "execution_count": null
    },
    {
      "id": "752e5123-28e8-4b4a-9233-711ccc572846",
      "cell_type": "markdown",
      "source": "Creating markdown cell with title of the notebookading\r\n",
      "metadata": {}
    },
    {
      "id": "b55ad2cc-3ca3-4d29-bf03-62d4a3cf5eb6",
      "cell_type": "raw",
      "source": "# Data Science Tools and Ecosystem",
      "metadata": {}
    },
    {
      "id": "41601286-1bb7-419e-a974-db50daee70b3",
      "cell_type": "markdown",
      "source": "# Data Science Tools and Ecosystem",
      "metadata": {}
    },
    {
      "id": "fb50618f-e409-4cc6-93e0-a96c81dcd4b9",
      "cell_type": "markdown",
      "source": "Creating a markdown cell for an introduction",
      "metadata": {}
    },
    {
      "id": "3cc75377-4250-4e46-b4f5-18f682c02f93",
      "cell_type": "raw",
      "source": "In this notebook, Data Science Tools and Ecosystem are summarized.",
      "metadata": {}
    },
    {
      "id": "9fc4f8ef-50a0-4164-90a9-bb23c730abc4",
      "cell_type": "markdown",
      "source": "In this notebook, Data Science Tools and Ecosystem are summarized.",
      "metadata": {}
    },
    {
      "id": "a86439ac-75a0-412d-b966-53385c01f635",
      "cell_type": "raw",
      "source": "**Objectives:**",
      "metadata": {}
    },
    {
      "id": "d94f015d-d54d-485b-ac6b-c5c135976aef",
      "cell_type": "markdown",
      "source": "**Objectives:**",
      "metadata": {}
    },
    {
      "id": "b615aa40-f701-4252-b5e9-d2dc847dba97",
      "cell_type": "raw",
      "source": "List popular languages for Data Science:\n- Python\n- R\n- SQL\n- Scala\n- Julia",
      "metadata": {}
    },
    {
      "id": "d34f1b76-41ca-4fde-b832-a3a8785667d8",
      "cell_type": "markdown",
      "source": "List popular languages for Data Science:\n* Python\n* R\n* SQL\n* Scala\n* Julia",
      "metadata": {}
    },
    {
      "id": "98fc7fad-bbac-47e9-bd40-f3e4488a213b",
      "cell_type": "markdown",
      "source": "Creating a markdown cell to list data science libraries",
      "metadata": {}
    },
    {
      "id": "f35907f9-fb03-4590-b284-0b97ff70582e",
      "cell_type": "raw",
      "source": "Some of the commonly used Python libraries used by Data Scientists include:\n\nPandas: offers data structures and tools for effective data cleaning, manipulation, and analysis.\nNumPy: libraries are based on arrays and matrices, allowing you to apply mathematical functions to the arrays.\nThe Matplotlib package is the most well-known library for data visualization.\nFor machine learning, the Scikit-learn library contains tools for statistical modeling, including regression, classification, clustering.\nFor building deep learning models, Keras allows you to build the standard deep learning model.\nTensorFlow is a low-level framework used in the large-scale production of deep learning models.",
      "metadata": {}
    },
    {
      "id": "e4573260-5cf3-4ce1-ba88-9a08307ba7e0",
      "cell_type": "markdown",
      "source": "Some of the commonly used Python libraries used by Data Scientists include:\n- Pandas: offers data structures and tools for effective data cleaning, manipulation, and analysis.\n- NumPy: libraries are based on arrays and matrices, allowing you to apply mathematical functions to the arrays.\n- The Matplotlib package is the most well-known library for data visualization.\n- For machine learning, the Scikit-learn library contains tools for statistical modeling, including regression, classification, clustering.\n- For building deep learning models, Keras allows you to build the standard deep learning model.\n- TensorFlow is a low-level framework used in the large-scale production of deep learning models.",
      "metadata": {}
    },
    {
      "id": "34ce1bcd-032a-42c3-8205-b7dc5f608d5d",
      "cell_type": "raw",
      "source": "For scala:\n- Vegas is a Scala Library for statistical data visualizations.\n- For deep learning, you can use big DL.",
      "metadata": {}
    },
    {
      "id": "0af08c30-84ed-4e17-a295-5b88187bc92e",
      "cell_type": "markdown",
      "source": "For scala:\n- Vegas is a Scala Library for statistical data visualizations.\n- For deep learning, you can use big DL.",
      "metadata": {}
    },
    {
      "id": "e51ce3f0-b3a5-4396-8253-7a3736667bfa",
      "cell_type": "raw",
      "source": "For R:\n- ggplot2 is a popular library for data visualization.\n- You can also use libraries that allow you to interface with Keras and TensorFlow.",
      "metadata": {}
    },
    {
      "id": "01c8eeda-837d-419e-8a2e-e72fd7ebdf6e",
      "cell_type": "markdown",
      "source": "For R:\n- ggplot2 is a popular library for data visualization.\n- You can also use libraries that allow you to interface with Keras and TensorFlow.",
      "metadata": {}
    },
    {
      "id": "05dfe674-a837-4527-97a7-04a97134fdaa",
      "cell_type": "markdown",
      "source": "Creating a markdown cell with a table of Data Science tools",
      "metadata": {}
    },
    {
      "id": "0e847fa4-14b5-4ee0-bab3-34387f236401",
      "cell_type": "raw",
      "source": "Data scientists often propose Extract, Load, Transform (ELT) as data is dumped somewhere, and the data engineer or data scientist handles the transformation of the data.\nData Refinery and Cleansing:\nThe most widely used open-source data integration and transformation tools are the following:\n- Apache AirFlow, which was created by Airbnb originally.\n- KubeFlow, which allows the execution of data science pipelines on top of Kubernetes.\n- Apache Kafka, which originated from LinkedIn.\n- Apache Nifi, which delivers a very nice visual editor.\n- Apache SparkSQL.",
      "metadata": {}
    },
    {
      "id": "507c49be-ad07-4991-9792-750bdcc66dd6",
      "cell_type": "markdown",
      "source": "Data scientists often propose Extract, Load, Transform (ELT) as data is dumped somewhere, and the data engineer or data scientist handles the transformation of the data.\nData Refinery and Cleansing:\nThe most widely used open-source data integration and transformation tools are the following:\n- Apache AirFlow, which was created by Airbnb originally.\n- KubeFlow, which allows the execution of data science pipelines on top of Kubernetes.\n- Apache Kafka, which originated from LinkedIn.\n- Apache Nifi, which delivers a very nice visual editor.\n- Apache SparkSQL.",
      "metadata": {}
    },
    {
      "id": "4c2efe1f-5e4c-4896-8e20-52e2e7b76f1f",
      "cell_type": "raw",
      "source": "Model deployment:\n- Apache PredictionIO currently only supports Apache Spark ML models for deployment, but support for all libraries is on the roadmap.\n- Seldon is an interesting product since it supports nearly every framework including, TensorFlow, Apache SparkML, R, and scikit learn.",
      "metadata": {}
    },
    {
      "id": "07eada26-d24d-4ed4-b6ab-e8fe3e7ebd6b",
      "cell_type": "markdown",
      "source": "Model deployment:\n- Apache PredictionIO currently only supports Apache Spark ML models for deployment, but support for all libraries is on the roadmap.\n- Seldon is an interesting product since it supports nearly every framework including, TensorFlow, Apache SparkML, R, and scikit learn.",
      "metadata": {}
    },
    {
      "id": "b8f27c4a-0b42-4f0c-9401-820ee46853dd",
      "cell_type": "raw",
      "source": "Model monitoring :\n- ModelDB is a machine model metadata base where information about the models is stored and queried, It natively supports Apache Spark ML Pipelines and scikit-learn.\n- A generic, multi-purpose tool called Prometheus is widely used as well. ",
      "metadata": {}
    },
    {
      "id": "1a4b57f8-6c0d-4823-b18c-358e8a537451",
      "cell_type": "markdown",
      "source": "Model monitoring :\n- ModelDB is a machine model metadata base where information about the models is stored and queried, It natively supports Apache Spark ML Pipelines and scikit-learn.\n- A generic, multi-purpose tool called Prometheus is widely used as well. ",
      "metadata": {}
    },
    {
      "id": "12cc4f6e-3c93-464e-83ac-14b10c5753c6",
      "cell_type": "raw",
      "source": "Model performance:\n- The IBM AI Fairness 360 open-source toolkit \n- The IBM Adversarial Robustness 360 Toolbox \n- The IBM AI Explainability 360 toolkit ",
      "metadata": {}
    },
    {
      "id": "60df5ad8-31a3-490d-bd3d-c4fb13a9e6c6",
      "cell_type": "markdown",
      "source": "Model performance:\n- The IBM AI Fairness 360 open-source toolkit \n- The IBM Adversarial Robustness 360 Toolbox \n- The IBM AI Explainability 360 toolkit ",
      "metadata": {}
    },
    {
      "id": "f7beedc5-ba22-416b-86b4-718eda105b04",
      "cell_type": "markdown",
      "source": "Creating a markdown cell introducing arithmetic expression examples",
      "metadata": {}
    },
    {
      "id": "587bc1be-92ea-4a93-814e-a332eeac92b7",
      "cell_type": "raw",
      "source": "### Below are a few examples of evaluating arithmetic expressions in Python",
      "metadata": {}
    },
    {
      "id": "74573f07-169e-4750-802e-a332bae4b3d2",
      "cell_type": "markdown",
      "source": "### Below are a few examples of evaluating arithmetic expressions in Python",
      "metadata": {}
    },
    {
      "id": "63e8cb1e-c3fb-4e28-ab66-2b01329b6732",
      "cell_type": "markdown",
      "source": " This a simple arithmetic expression to mutiply then add integers",
      "metadata": {}
    },
    {
      "id": "10b4375f-b801-4867-b67f-b74be98b8a00",
      "cell_type": "code",
      "source": "(3*4)+5",
      "metadata": {
        "trusted": true
      },
      "outputs": [
        {
          "execution_count": 14,
          "output_type": "execute_result",
          "data": {
            "text/plain": "17"
          },
          "metadata": {}
        }
      ],
      "execution_count": 14
    },
    {
      "id": "f228b284-d729-45e3-8811-644bc8dbf2ff",
      "cell_type": "markdown",
      "source": " This will convert 200 minutes to hours by diving by 60",
      "metadata": {}
    },
    {
      "id": "01632c5a-7bd4-42ec-8943-02bed5e540b3",
      "cell_type": "code",
      "source": "200/60",
      "metadata": {
        "trusted": true
      },
      "outputs": [
        {
          "execution_count": 15,
          "output_type": "execute_result",
          "data": {
            "text/plain": "3.3333333333333335"
          },
          "metadata": {}
        }
      ],
      "execution_count": 15
    },
    {
      "id": "c944d2b1-030a-4376-96a1-83aed04ca27e",
      "cell_type": "raw",
      "source": "## Author",
      "metadata": {}
    },
    {
      "id": "05ba09b6-5e09-4431-b835-eb26527e4428",
      "cell_type": "markdown",
      "source": "## Author",
      "metadata": {}
    },
    {
      "id": "abe97a59-825e-4f5f-bc1b-594a9de4c13a",
      "cell_type": "raw",
      "source": "Mahmoud Ahmed",
      "metadata": {}
    },
    {
      "id": "9ce125a8-c680-4c37-bc4d-513183bbc79f",
      "cell_type": "markdown",
      "source": "Mahmoud Ahmed",
      "metadata": {}
    }
  ]
}